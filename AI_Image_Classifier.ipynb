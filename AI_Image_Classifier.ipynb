{
  "nbformat": 4,
  "nbformat_minor": 0,
  "metadata": {
    "colab": {
      "provenance": [],
      "authorship_tag": "ABX9TyOkAkWL8ki/1krSJBIB2WU5",
      "include_colab_link": true
    },
    "kernelspec": {
      "name": "python3",
      "display_name": "Python 3"
    },
    "language_info": {
      "name": "python"
    }
  },
  "cells": [
    {
      "cell_type": "markdown",
      "metadata": {
        "id": "view-in-github",
        "colab_type": "text"
      },
      "source": [
        "<a href=\"https://colab.research.google.com/github/RDW287/CM3710-Coding-Assessment/blob/main/AI_Image_Classifier.ipynb\" target=\"_parent\"><img src=\"https://colab.research.google.com/assets/colab-badge.svg\" alt=\"Open In Colab\"/></a>"
      ]
    },
    {
      "cell_type": "code",
      "source": [
        "%cd CM3710-Coding-Assessment/\n",
        "!git pull"
      ],
      "metadata": {
        "id": "FkTOE95fkbgZ",
        "outputId": "6587f1ec-6252-462d-c9b9-da795c10aef5",
        "colab": {
          "base_uri": "https://localhost:8080/"
        }
      },
      "execution_count": 138,
      "outputs": [
        {
          "output_type": "stream",
          "name": "stdout",
          "text": [
            "[Errno 2] No such file or directory: 'CM3710-Coding-Assessment/'\n",
            "/content/CM3710-Coding-Assessment\n",
            "remote: Enumerating objects: 5, done.\u001b[K\n",
            "remote: Counting objects: 100% (5/5), done.\u001b[K\n",
            "remote: Compressing objects: 100% (3/3), done.\u001b[K\n",
            "remote: Total 3 (delta 0), reused 0 (delta 0), pack-reused 0 (from 0)\u001b[K\n",
            "Unpacking objects: 100% (3/3), 17.11 KiB | 5.70 MiB/s, done.\n",
            "From https://github.com/RDW287/CM3710-Coding-Assessment\n",
            "   fc84902..c6bbc72  main       -> origin/main\n",
            "Updating fc84902..c6bbc72\n",
            "Fast-forward\n",
            " AI_Image_Classifier.ipynb | 98 \u001b[32m+++++++++++++++++++++++++++++++++++++++++++++++++++++++++\u001b[m\u001b[31m----------\u001b[m\n",
            " 1 file changed, 84 insertions(+), 14 deletions(-)\n"
          ]
        }
      ]
    },
    {
      "cell_type": "markdown",
      "source": [
        "#**Introduction**\n",
        "\n",
        "The aim of this notebook is to create and compare to two AI algorithms to classify images from the selected dataset. The dataset is images captured using Meta glass, these include rooms and objects within RGU that are categorized/labelled by name."
      ],
      "metadata": {
        "id": "vpigcJ_yJGJX"
      }
    },
    {
      "cell_type": "code",
      "source": [
        "# Required imports for code\n",
        "import os\n",
        "import re\n",
        "import matplotlib.pyplot as plt\n",
        "from collections import Counter\n",
        "import numpy as np\n",
        "from PIL import Image\n",
        "import tensorflow as tf\n",
        "from tensorflow import keras\n",
        "from tensorflow.keras import layers"
      ],
      "metadata": {
        "id": "YwnGuV-6KqwI"
      },
      "execution_count": 157,
      "outputs": []
    },
    {
      "cell_type": "code",
      "source": [
        "# Data Exploration\n",
        "\n",
        "directory = \"RGU_Images\"\n",
        "\n",
        "\n",
        "# Stores the names of the files, this will be used as the labels later\n",
        "image_filenames = []\n",
        "files = os.listdir(directory)\n",
        "for file in files:\n",
        "  name = re.split('_|-', file) #Splits file names by _ and - to get the label\n",
        "  image_filenames.append(name[1])\n",
        "\n",
        "# We can see that we have 98 images that are 360x360 pixels in size\n",
        "print(\"No. Images: \", len(files))\n",
        "print(\"Image Size:\", Image.open(f'{directory}/{files[0]}').size)\n",
        "\n",
        "# Gets the count of each label in the dataset\n",
        "filename_count = Counter(image_filenames)\n",
        "\n",
        "# The bar graph below shows that not all categories have equal amounts of images, 'floor' only\n",
        "# has 4 whereas 'kitchen' has 18. In order to help the algorithms learn we should augment these\n",
        "# images to increase the dataset size.\n",
        "plt.figure(figsize=(8,4))\n",
        "plt.bar(filename_count.keys(), filename_count.values())\n",
        "plt.yticks(range(0,20,2))\n",
        "plt.title(\"Count of Images by Label\")\n",
        "plt.show()"
      ],
      "metadata": {
        "id": "kYbjn9MeKVYQ",
        "outputId": "7039bd19-bbfd-4aea-948a-91d1b2bc632b",
        "colab": {
          "base_uri": "https://localhost:8080/",
          "height": 426
        }
      },
      "execution_count": 153,
      "outputs": [
        {
          "output_type": "stream",
          "name": "stdout",
          "text": [
            "No. Images:  98\n",
            "Image Size: (360, 360)\n"
          ]
        },
        {
          "output_type": "display_data",
          "data": {
            "text/plain": [
              "<Figure size 800x400 with 1 Axes>"
            ],
            "image/png": "[encoded data removed]"
          },
          "metadata": {}
        }
      ]
    },
    {
      "cell_type": "code",
      "source": [
        "# Data Preprocessing\n",
        "\n",
        "# We will create a keras layer to apply augmentation techniques to expand our training set\n",
        "data_augmentation = keras.Sequential([\n",
        "    layers.Rescaling(1/255), #This will scale the image contents to between 0-1, this is min-max normalisation\n",
        "    layers.RandomFlip(\"horizontal_and_vertical\"), #Flips the image horizontally and/or vertically\n",
        "    layers.RandomRotation(0.5), #Adds some rotation to the image\n",
        "    layers.RandomCrop(150,150) #Zooms into a particular point by cropping the rest of the image\n",
        "])\n",
        "\n",
        "# This is what the original image looks like\n",
        "img = plt.imread(f'{dir}/{files[1]}')\n",
        "plt.imshow(img)\n",
        "plt.title(\"Original Image\")\n",
        "plt.axis('off')\n",
        "plt.show()\n",
        "\n",
        "# These are examples of how the images will look after augmentation\n",
        "fig, axs = plt.subplots(1, 3, figsize=(12, 4))\n",
        "for i in range(3):\n",
        "    augmented = data_augmentation(img)\n",
        "    axs[i].imshow(augmented)\n",
        "    axs[i].set_title(f\"Augmented {i + 1}\")\n",
        "    axs[i].axis('off')\n",
        "\n",
        "plt.tight_layout()\n",
        "plt.show()"
      ],
      "metadata": {
        "id": "YQR3gKJ2Q-b6"
      },
      "execution_count": null,
      "outputs": []
    },
    {
      "cell_type": "code",
      "source": [
        "images = []\n",
        "y_categorical = keras.utils.to_categorical(\n",
        "    np.unique(image_filenames, return_inverse=True)[1]\n",
        ")\n",
        "\n",
        "X_train, X_test, y_train, y_test = train_test_split(\n",
        "    images, y_categorical, test_size=0.2, random_state=42\n",
        ")"
      ],
      "metadata": {
        "id": "ZggA9UQF5k8S",
        "outputId": "b66522ec-80ef-4114-cc1e-16ff54595dc8",
        "colab": {
          "base_uri": "https://localhost:8080/",
          "height": 280
        }
      },
      "execution_count": 164,
      "outputs": [
        {
          "output_type": "error",
          "ename": "ValueError",
          "evalue": "invalid literal for int() with base 10: 'Break'",
          "traceback": [
            "\u001b[0;31m---------------------------------------------------------------------------\u001b[0m",
            "\u001b[0;31mValueError\u001b[0m                                Traceback (most recent call last)",
            "\u001b[0;32m<ipython-input-164-276b2b2d0b59>\u001b[0m in \u001b[0;36m<cell line: 1>\u001b[0;34m()\u001b[0m\n\u001b[0;32m----> 1\u001b[0;31m \u001b[0my_categorical\u001b[0m \u001b[0;34m=\u001b[0m \u001b[0mkeras\u001b[0m\u001b[0;34m.\u001b[0m\u001b[0mutils\u001b[0m\u001b[0;34m.\u001b[0m\u001b[0mto_categorical\u001b[0m\u001b[0;34m(\u001b[0m\u001b[0mnp\u001b[0m\u001b[0;34m.\u001b[0m\u001b[0munique\u001b[0m\u001b[0;34m(\u001b[0m\u001b[0mimage_filenames\u001b[0m\u001b[0;34m)\u001b[0m\u001b[0;34m[\u001b[0m\u001b[0;36m1\u001b[0m\u001b[0;34m]\u001b[0m\u001b[0;34m)\u001b[0m\u001b[0;34m\u001b[0m\u001b[0;34m\u001b[0m\u001b[0m\n\u001b[0m\u001b[1;32m      2\u001b[0m \u001b[0mprint\u001b[0m\u001b[0;34m(\u001b[0m\u001b[0my_categorical\u001b[0m\u001b[0;34m[\u001b[0m\u001b[0;36m0\u001b[0m\u001b[0;34m]\u001b[0m\u001b[0;34m)\u001b[0m\u001b[0;34m\u001b[0m\u001b[0;34m\u001b[0m\u001b[0m\n",
            "\u001b[0;32m/usr/local/lib/python3.10/dist-packages/keras/src/utils/numerical_utils.py\u001b[0m in \u001b[0;36mto_categorical\u001b[0;34m(x, num_classes)\u001b[0m\n\u001b[1;32m     84\u001b[0m             \u001b[0mx\u001b[0m \u001b[0;34m=\u001b[0m \u001b[0mbackend\u001b[0m\u001b[0;34m.\u001b[0m\u001b[0mnumpy\u001b[0m\u001b[0;34m.\u001b[0m\u001b[0mreshape\u001b[0m\u001b[0;34m(\u001b[0m\u001b[0mx\u001b[0m\u001b[0;34m,\u001b[0m \u001b[0mnewshape\u001b[0m\u001b[0;34m)\u001b[0m\u001b[0;34m\u001b[0m\u001b[0;34m\u001b[0m\u001b[0m\n\u001b[1;32m     85\u001b[0m         \u001b[0;32mreturn\u001b[0m \u001b[0mbackend\u001b[0m\u001b[0;34m.\u001b[0m\u001b[0mnn\u001b[0m\u001b[0;34m.\u001b[0m\u001b[0mone_hot\u001b[0m\u001b[0;34m(\u001b[0m\u001b[0mx\u001b[0m\u001b[0;34m,\u001b[0m \u001b[0mnum_classes\u001b[0m\u001b[0;34m)\u001b[0m\u001b[0;34m\u001b[0m\u001b[0;34m\u001b[0m\u001b[0m\n\u001b[0;32m---> 86\u001b[0;31m     \u001b[0mx\u001b[0m \u001b[0;34m=\u001b[0m \u001b[0mnp\u001b[0m\u001b[0;34m.\u001b[0m\u001b[0marray\u001b[0m\u001b[0;34m(\u001b[0m\u001b[0mx\u001b[0m\u001b[0;34m,\u001b[0m \u001b[0mdtype\u001b[0m\u001b[0;34m=\u001b[0m\u001b[0;34m\"int64\"\u001b[0m\u001b[0;34m)\u001b[0m\u001b[0;34m\u001b[0m\u001b[0;34m\u001b[0m\u001b[0m\n\u001b[0m\u001b[1;32m     87\u001b[0m     \u001b[0minput_shape\u001b[0m \u001b[0;34m=\u001b[0m \u001b[0mx\u001b[0m\u001b[0;34m.\u001b[0m\u001b[0mshape\u001b[0m\u001b[0;34m\u001b[0m\u001b[0;34m\u001b[0m\u001b[0m\n\u001b[1;32m     88\u001b[0m \u001b[0;34m\u001b[0m\u001b[0m\n",
            "\u001b[0;31mValueError\u001b[0m: invalid literal for int() with base 10: 'Break'"
          ]
        }
      ]
    },
    {
      "cell_type": "code",
      "source": [],
      "metadata": {
        "id": "Nrth1Yh-zTYF"
      },
      "execution_count": null,
      "outputs": []
    }
  ]
}